{
 "cells": [
  {
   "cell_type": "code",
   "execution_count": 7,
   "metadata": {},
   "outputs": [],
   "source": [
    "import pandas as pd\n",
    "import requests"
   ]
  },
  {
   "cell_type": "code",
   "execution_count": 8,
   "metadata": {},
   "outputs": [],
   "source": [
    "# Takes the JSON from the API\n",
    "get_quotes = requests.get(\"https://api.hgbrasil.com/finance\")\n",
    "RESPONSE = pd.read_json(get_quotes.text)"
   ]
  },
  {
   "cell_type": "code",
   "execution_count": 9,
   "metadata": {},
   "outputs": [],
   "source": [
    "def currencyQuote(coin:str): \n",
    "    response_filter = RESPONSE[\"results\"][\"currencies\"]\n",
    "    currency = response_filter[f\"{coin}\"]\n",
    "    df_series = pd.Series(currency)\n",
    "    df_series.index = ['Moeda', 'Preço de compra', 'Preço de venda', 'Variação']\n",
    "    df = pd.DataFrame(df_series)\n",
    "    df.rename(columns = {0:'Informações'}, inplace = True)\n",
    "    display(df)"
   ]
  },
  {
   "cell_type": "code",
   "execution_count": 10,
   "metadata": {},
   "outputs": [],
   "source": [
    "def tax():\n",
    "    get_tax = requests.get(f\"https://brasilapi.com.br/api/taxas/v1\")\n",
    "    df = pd.read_json(get_tax.text)\n",
    "    display(df)"
   ]
  },
  {
   "cell_type": "code",
   "execution_count": 11,
   "metadata": {},
   "outputs": [],
   "source": [
    "def mainMenu():\n",
    "    print(\"█\" * 50)\n",
    "    print(\"1 - Dolar (USD)\")\n",
    "    print(\"2 - Euro (EUR)\")\n",
    "    print(\"3 - Libra esterlina (GBP)\")\n",
    "    print(\"4 - Bitcoin (BTC)\")\n",
    "    print(\"5 - Ver taxas (CDI, Selic e IPCA)\")\n",
    "    print(\"0 - Sair do programa.\")\n",
    "    print(\"█\" * 50)"
   ]
  },
  {
   "cell_type": "code",
   "execution_count": 12,
   "metadata": {},
   "outputs": [
    {
     "name": "stdout",
     "output_type": "stream",
     "text": [
      "██████████████████████████████████████████████████\n",
      "1 - Dolar (USD)\n",
      "2 - Euro (EUR)\n",
      "3 - Libra esterlina (GBP)\n",
      "4 - Bitcoin (BTC)\n",
      "5 - Ver taxas (CDI, Selic e IPCA)\n",
      "0 - Sair do programa.\n",
      "██████████████████████████████████████████████████\n"
     ]
    },
    {
     "data": {
      "text/html": [
       "<div>\n",
       "<style scoped>\n",
       "    .dataframe tbody tr th:only-of-type {\n",
       "        vertical-align: middle;\n",
       "    }\n",
       "\n",
       "    .dataframe tbody tr th {\n",
       "        vertical-align: top;\n",
       "    }\n",
       "\n",
       "    .dataframe thead th {\n",
       "        text-align: right;\n",
       "    }\n",
       "</style>\n",
       "<table border=\"1\" class=\"dataframe\">\n",
       "  <thead>\n",
       "    <tr style=\"text-align: right;\">\n",
       "      <th></th>\n",
       "      <th>Informações</th>\n",
       "    </tr>\n",
       "  </thead>\n",
       "  <tbody>\n",
       "    <tr>\n",
       "      <th>Moeda</th>\n",
       "      <td>Dollar</td>\n",
       "    </tr>\n",
       "    <tr>\n",
       "      <th>Preço de compra</th>\n",
       "      <td>5.1528</td>\n",
       "    </tr>\n",
       "    <tr>\n",
       "      <th>Preço de venda</th>\n",
       "      <td>5.1535</td>\n",
       "    </tr>\n",
       "    <tr>\n",
       "      <th>Variação</th>\n",
       "      <td>0.0</td>\n",
       "    </tr>\n",
       "  </tbody>\n",
       "</table>\n",
       "</div>"
      ],
      "text/plain": [
       "                Informações\n",
       "Moeda                Dollar\n",
       "Preço de compra      5.1528\n",
       "Preço de venda       5.1535\n",
       "Variação                0.0"
      ]
     },
     "metadata": {},
     "output_type": "display_data"
    },
    {
     "name": "stdout",
     "output_type": "stream",
     "text": [
      "██████████████████████████████████████████████████\n",
      "1 - Dolar (USD)\n",
      "2 - Euro (EUR)\n",
      "3 - Libra esterlina (GBP)\n",
      "4 - Bitcoin (BTC)\n",
      "5 - Ver taxas (CDI, Selic e IPCA)\n",
      "0 - Sair do programa.\n",
      "██████████████████████████████████████████████████\n"
     ]
    },
    {
     "data": {
      "text/html": [
       "<div>\n",
       "<style scoped>\n",
       "    .dataframe tbody tr th:only-of-type {\n",
       "        vertical-align: middle;\n",
       "    }\n",
       "\n",
       "    .dataframe tbody tr th {\n",
       "        vertical-align: top;\n",
       "    }\n",
       "\n",
       "    .dataframe thead th {\n",
       "        text-align: right;\n",
       "    }\n",
       "</style>\n",
       "<table border=\"1\" class=\"dataframe\">\n",
       "  <thead>\n",
       "    <tr style=\"text-align: right;\">\n",
       "      <th></th>\n",
       "      <th>Informações</th>\n",
       "    </tr>\n",
       "  </thead>\n",
       "  <tbody>\n",
       "    <tr>\n",
       "      <th>Moeda</th>\n",
       "      <td>Euro</td>\n",
       "    </tr>\n",
       "    <tr>\n",
       "      <th>Preço de compra</th>\n",
       "      <td>5.4095</td>\n",
       "    </tr>\n",
       "    <tr>\n",
       "      <th>Preço de venda</th>\n",
       "      <td>5.4088</td>\n",
       "    </tr>\n",
       "    <tr>\n",
       "      <th>Variação</th>\n",
       "      <td>0.0</td>\n",
       "    </tr>\n",
       "  </tbody>\n",
       "</table>\n",
       "</div>"
      ],
      "text/plain": [
       "                Informações\n",
       "Moeda                  Euro\n",
       "Preço de compra      5.4095\n",
       "Preço de venda       5.4088\n",
       "Variação                0.0"
      ]
     },
     "metadata": {},
     "output_type": "display_data"
    },
    {
     "name": "stdout",
     "output_type": "stream",
     "text": [
      "██████████████████████████████████████████████████\n",
      "1 - Dolar (USD)\n",
      "2 - Euro (EUR)\n",
      "3 - Libra esterlina (GBP)\n",
      "4 - Bitcoin (BTC)\n",
      "5 - Ver taxas (CDI, Selic e IPCA)\n",
      "0 - Sair do programa.\n",
      "██████████████████████████████████████████████████\n"
     ]
    },
    {
     "data": {
      "text/html": [
       "<div>\n",
       "<style scoped>\n",
       "    .dataframe tbody tr th:only-of-type {\n",
       "        vertical-align: middle;\n",
       "    }\n",
       "\n",
       "    .dataframe tbody tr th {\n",
       "        vertical-align: top;\n",
       "    }\n",
       "\n",
       "    .dataframe thead th {\n",
       "        text-align: right;\n",
       "    }\n",
       "</style>\n",
       "<table border=\"1\" class=\"dataframe\">\n",
       "  <thead>\n",
       "    <tr style=\"text-align: right;\">\n",
       "      <th></th>\n",
       "      <th>Informações</th>\n",
       "    </tr>\n",
       "  </thead>\n",
       "  <tbody>\n",
       "    <tr>\n",
       "      <th>Moeda</th>\n",
       "      <td>Pound Sterling</td>\n",
       "    </tr>\n",
       "    <tr>\n",
       "      <th>Preço de compra</th>\n",
       "      <td>6.2973</td>\n",
       "    </tr>\n",
       "    <tr>\n",
       "      <th>Preço de venda</th>\n",
       "      <td>None</td>\n",
       "    </tr>\n",
       "    <tr>\n",
       "      <th>Variação</th>\n",
       "      <td>-0.0</td>\n",
       "    </tr>\n",
       "  </tbody>\n",
       "</table>\n",
       "</div>"
      ],
      "text/plain": [
       "                    Informações\n",
       "Moeda            Pound Sterling\n",
       "Preço de compra          6.2973\n",
       "Preço de venda             None\n",
       "Variação                   -0.0"
      ]
     },
     "metadata": {},
     "output_type": "display_data"
    },
    {
     "name": "stdout",
     "output_type": "stream",
     "text": [
      "██████████████████████████████████████████████████\n",
      "1 - Dolar (USD)\n",
      "2 - Euro (EUR)\n",
      "3 - Libra esterlina (GBP)\n",
      "4 - Bitcoin (BTC)\n",
      "5 - Ver taxas (CDI, Selic e IPCA)\n",
      "0 - Sair do programa.\n",
      "██████████████████████████████████████████████████\n"
     ]
    },
    {
     "data": {
      "text/html": [
       "<div>\n",
       "<style scoped>\n",
       "    .dataframe tbody tr th:only-of-type {\n",
       "        vertical-align: middle;\n",
       "    }\n",
       "\n",
       "    .dataframe tbody tr th {\n",
       "        vertical-align: top;\n",
       "    }\n",
       "\n",
       "    .dataframe thead th {\n",
       "        text-align: right;\n",
       "    }\n",
       "</style>\n",
       "<table border=\"1\" class=\"dataframe\">\n",
       "  <thead>\n",
       "    <tr style=\"text-align: right;\">\n",
       "      <th></th>\n",
       "      <th>Informações</th>\n",
       "    </tr>\n",
       "  </thead>\n",
       "  <tbody>\n",
       "    <tr>\n",
       "      <th>Moeda</th>\n",
       "      <td>Bitcoin</td>\n",
       "    </tr>\n",
       "    <tr>\n",
       "      <th>Preço de compra</th>\n",
       "      <td>102910.086</td>\n",
       "    </tr>\n",
       "    <tr>\n",
       "      <th>Preço de venda</th>\n",
       "      <td>102910.086</td>\n",
       "    </tr>\n",
       "    <tr>\n",
       "      <th>Variação</th>\n",
       "      <td>-8.406</td>\n",
       "    </tr>\n",
       "  </tbody>\n",
       "</table>\n",
       "</div>"
      ],
      "text/plain": [
       "                Informações\n",
       "Moeda               Bitcoin\n",
       "Preço de compra  102910.086\n",
       "Preço de venda   102910.086\n",
       "Variação             -8.406"
      ]
     },
     "metadata": {},
     "output_type": "display_data"
    },
    {
     "name": "stdout",
     "output_type": "stream",
     "text": [
      "██████████████████████████████████████████████████\n",
      "1 - Dolar (USD)\n",
      "2 - Euro (EUR)\n",
      "3 - Libra esterlina (GBP)\n",
      "4 - Bitcoin (BTC)\n",
      "5 - Ver taxas (CDI, Selic e IPCA)\n",
      "0 - Sair do programa.\n",
      "██████████████████████████████████████████████████\n"
     ]
    },
    {
     "data": {
      "text/html": [
       "<div>\n",
       "<style scoped>\n",
       "    .dataframe tbody tr th:only-of-type {\n",
       "        vertical-align: middle;\n",
       "    }\n",
       "\n",
       "    .dataframe tbody tr th {\n",
       "        vertical-align: top;\n",
       "    }\n",
       "\n",
       "    .dataframe thead th {\n",
       "        text-align: right;\n",
       "    }\n",
       "</style>\n",
       "<table border=\"1\" class=\"dataframe\">\n",
       "  <thead>\n",
       "    <tr style=\"text-align: right;\">\n",
       "      <th></th>\n",
       "      <th>nome</th>\n",
       "      <th>valor</th>\n",
       "    </tr>\n",
       "  </thead>\n",
       "  <tbody>\n",
       "    <tr>\n",
       "      <th>0</th>\n",
       "      <td>Selic</td>\n",
       "      <td>13.25</td>\n",
       "    </tr>\n",
       "    <tr>\n",
       "      <th>1</th>\n",
       "      <td>CDI</td>\n",
       "      <td>13.15</td>\n",
       "    </tr>\n",
       "    <tr>\n",
       "      <th>2</th>\n",
       "      <td>IPCA</td>\n",
       "      <td>11.73</td>\n",
       "    </tr>\n",
       "  </tbody>\n",
       "</table>\n",
       "</div>"
      ],
      "text/plain": [
       "    nome  valor\n",
       "0  Selic  13.25\n",
       "1    CDI  13.15\n",
       "2   IPCA  11.73"
      ]
     },
     "metadata": {},
     "output_type": "display_data"
    },
    {
     "name": "stdout",
     "output_type": "stream",
     "text": [
      "██████████████████████████████████████████████████\n",
      "1 - Dolar (USD)\n",
      "2 - Euro (EUR)\n",
      "3 - Libra esterlina (GBP)\n",
      "4 - Bitcoin (BTC)\n",
      "5 - Ver taxas (CDI, Selic e IPCA)\n",
      "0 - Sair do programa.\n",
      "██████████████████████████████████████████████████\n",
      "Saindo do programa...\n"
     ]
    }
   ],
   "source": [
    "try:\n",
    "    while True:\n",
    "        mainMenu()\n",
    "\n",
    "        coin_in = input(\"Escolha uma opção(Ex: 2): \")\n",
    "\n",
    "        if coin_in == \"1\":\n",
    "            coin_choose = currencyQuote(\"USD\")\n",
    "                   \n",
    "        elif coin_in == \"2\":\n",
    "            coin_choose = currencyQuote(\"EUR\")\n",
    "            \n",
    "        elif coin_in == \"3\":\n",
    "            coin_choose = currencyQuote(\"GBP\")\n",
    "            \n",
    "        elif coin_in == \"4\":\n",
    "            coin_choose = currencyQuote(\"BTC\")\n",
    "            \n",
    "        elif coin_in == \"5\":\n",
    "            exe_tax = tax()\n",
    "            \n",
    "        elif coin_in == \"0\":\n",
    "            print(\"Saindo do programa...\")\n",
    "            break\n",
    "\n",
    "        else:\n",
    "            print(\"Comando inválido! Tente novamente\")\n",
    "            \n",
    "except Exception as error:\n",
    "        print(\"Ocorreu um erro (╥﹏╥). Entre em contato com o suporte técnico 🔧\", error)\n",
    "    "
   ]
  }
 ],
 "metadata": {
  "kernelspec": {
   "display_name": "Python 3.10.4 64-bit",
   "language": "python",
   "name": "python3"
  },
  "language_info": {
   "codemirror_mode": {
    "name": "ipython",
    "version": 3
   },
   "file_extension": ".py",
   "mimetype": "text/x-python",
   "name": "python",
   "nbconvert_exporter": "python",
   "pygments_lexer": "ipython3",
   "version": "3.10.4"
  },
  "orig_nbformat": 4,
  "vscode": {
   "interpreter": {
    "hash": "dbb77da00293cbd13f9a74e7fad8b9ab161a0d2155eb7de30d183c81e8145a42"
   }
  }
 },
 "nbformat": 4,
 "nbformat_minor": 2
}
